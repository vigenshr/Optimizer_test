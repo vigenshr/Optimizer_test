{
 "cells": [
  {
   "cell_type": "code",
   "execution_count": 9,
   "id": "c102d2af",
   "metadata": {},
   "outputs": [],
   "source": [
    "import pandas as pd\n",
    "import numpy as np\n",
    "import matplotlib.pyplot as plt\n",
    "import seaborn as sns\n",
    "#from sklearn.neural_network import MLPClassifier"
   ]
  },
  {
   "cell_type": "code",
   "execution_count": 2,
   "id": "264aad2b",
   "metadata": {},
   "outputs": [],
   "source": [
    "df=pd.read_excel(r'C:\\Users\\vr29\\AICoE\\Estimator\\Model Building Project\\Data2.xlsx')"
   ]
  },
  {
   "cell_type": "code",
   "execution_count": 4,
   "id": "5f8280bf",
   "metadata": {},
   "outputs": [
    {
     "data": {
      "text/html": [
       "<div>\n",
       "<style scoped>\n",
       "    .dataframe tbody tr th:only-of-type {\n",
       "        vertical-align: middle;\n",
       "    }\n",
       "\n",
       "    .dataframe tbody tr th {\n",
       "        vertical-align: top;\n",
       "    }\n",
       "\n",
       "    .dataframe thead th {\n",
       "        text-align: right;\n",
       "    }\n",
       "</style>\n",
       "<table border=\"1\" class=\"dataframe\">\n",
       "  <thead>\n",
       "    <tr style=\"text-align: right;\">\n",
       "      <th></th>\n",
       "      <th>Features</th>\n",
       "      <th>Complexity</th>\n",
       "      <th>Frequency</th>\n",
       "      <th>Density</th>\n",
       "      <th>Time in min</th>\n",
       "      <th>Converted</th>\n",
       "    </tr>\n",
       "  </thead>\n",
       "  <tbody>\n",
       "    <tr>\n",
       "      <th>0</th>\n",
       "      <td>proc opt model1</td>\n",
       "      <td>Simple</td>\n",
       "      <td>2</td>\n",
       "      <td>19</td>\n",
       "      <td>120</td>\n",
       "      <td>Converted</td>\n",
       "    </tr>\n",
       "    <tr>\n",
       "      <th>1</th>\n",
       "      <td>proc opt model2</td>\n",
       "      <td>Intermediate 2</td>\n",
       "      <td>1</td>\n",
       "      <td>62</td>\n",
       "      <td>90</td>\n",
       "      <td>Converted</td>\n",
       "    </tr>\n",
       "    <tr>\n",
       "      <th>2</th>\n",
       "      <td>proc opt model3</td>\n",
       "      <td>Complex</td>\n",
       "      <td>1</td>\n",
       "      <td>186</td>\n",
       "      <td>120</td>\n",
       "      <td>Converted</td>\n",
       "    </tr>\n",
       "    <tr>\n",
       "      <th>3</th>\n",
       "      <td>proc nlp</td>\n",
       "      <td>Simple</td>\n",
       "      <td>1</td>\n",
       "      <td>16</td>\n",
       "      <td>60</td>\n",
       "      <td>Converted</td>\n",
       "    </tr>\n",
       "    <tr>\n",
       "      <th>4</th>\n",
       "      <td>proc sql</td>\n",
       "      <td>Intermediate 1</td>\n",
       "      <td>1</td>\n",
       "      <td>44</td>\n",
       "      <td>90</td>\n",
       "      <td>Converted</td>\n",
       "    </tr>\n",
       "  </tbody>\n",
       "</table>\n",
       "</div>"
      ],
      "text/plain": [
       "          Features      Complexity  Frequency  Density  Time in min  Converted\n",
       "0  proc opt model1          Simple          2       19          120  Converted\n",
       "1  proc opt model2  Intermediate 2          1       62           90  Converted\n",
       "2  proc opt model3         Complex          1      186          120  Converted\n",
       "3         proc nlp          Simple          1       16           60  Converted\n",
       "4         proc sql  Intermediate 1          1       44           90  Converted"
      ]
     },
     "execution_count": 4,
     "metadata": {},
     "output_type": "execute_result"
    }
   ],
   "source": [
    "df.head()"
   ]
  },
  {
   "cell_type": "code",
   "execution_count": 5,
   "id": "c514b857",
   "metadata": {},
   "outputs": [
    {
     "data": {
      "text/html": [
       "<div>\n",
       "<style scoped>\n",
       "    .dataframe tbody tr th:only-of-type {\n",
       "        vertical-align: middle;\n",
       "    }\n",
       "\n",
       "    .dataframe tbody tr th {\n",
       "        vertical-align: top;\n",
       "    }\n",
       "\n",
       "    .dataframe thead th {\n",
       "        text-align: right;\n",
       "    }\n",
       "</style>\n",
       "<table border=\"1\" class=\"dataframe\">\n",
       "  <thead>\n",
       "    <tr style=\"text-align: right;\">\n",
       "      <th></th>\n",
       "      <th>Frequency</th>\n",
       "      <th>Density</th>\n",
       "      <th>Time in min</th>\n",
       "    </tr>\n",
       "  </thead>\n",
       "  <tbody>\n",
       "    <tr>\n",
       "      <th>count</th>\n",
       "      <td>14.000000</td>\n",
       "      <td>14.000000</td>\n",
       "      <td>14.000000</td>\n",
       "    </tr>\n",
       "    <tr>\n",
       "      <th>mean</th>\n",
       "      <td>4.142857</td>\n",
       "      <td>84.857143</td>\n",
       "      <td>139.285714</td>\n",
       "    </tr>\n",
       "    <tr>\n",
       "      <th>std</th>\n",
       "      <td>5.503246</td>\n",
       "      <td>126.721291</td>\n",
       "      <td>60.696507</td>\n",
       "    </tr>\n",
       "    <tr>\n",
       "      <th>min</th>\n",
       "      <td>1.000000</td>\n",
       "      <td>4.000000</td>\n",
       "      <td>60.000000</td>\n",
       "    </tr>\n",
       "    <tr>\n",
       "      <th>25%</th>\n",
       "      <td>1.000000</td>\n",
       "      <td>22.250000</td>\n",
       "      <td>90.000000</td>\n",
       "    </tr>\n",
       "    <tr>\n",
       "      <th>50%</th>\n",
       "      <td>2.000000</td>\n",
       "      <td>37.500000</td>\n",
       "      <td>120.000000</td>\n",
       "    </tr>\n",
       "    <tr>\n",
       "      <th>75%</th>\n",
       "      <td>5.250000</td>\n",
       "      <td>69.500000</td>\n",
       "      <td>180.000000</td>\n",
       "    </tr>\n",
       "    <tr>\n",
       "      <th>max</th>\n",
       "      <td>21.000000</td>\n",
       "      <td>489.000000</td>\n",
       "      <td>240.000000</td>\n",
       "    </tr>\n",
       "  </tbody>\n",
       "</table>\n",
       "</div>"
      ],
      "text/plain": [
       "       Frequency     Density  Time in min\n",
       "count  14.000000   14.000000    14.000000\n",
       "mean    4.142857   84.857143   139.285714\n",
       "std     5.503246  126.721291    60.696507\n",
       "min     1.000000    4.000000    60.000000\n",
       "25%     1.000000   22.250000    90.000000\n",
       "50%     2.000000   37.500000   120.000000\n",
       "75%     5.250000   69.500000   180.000000\n",
       "max    21.000000  489.000000   240.000000"
      ]
     },
     "execution_count": 5,
     "metadata": {},
     "output_type": "execute_result"
    }
   ],
   "source": [
    "df.describe()"
   ]
  },
  {
   "cell_type": "markdown",
   "id": "3c6d3050",
   "metadata": {},
   "source": [
    "## EDA"
   ]
  },
  {
   "cell_type": "code",
   "execution_count": 5,
   "id": "e9f29c36",
   "metadata": {
    "scrolled": true
   },
   "outputs": [
    {
     "data": {
      "text/plain": [
       "Converted        11\n",
       "Not Converted     3\n",
       "Name: Converted, dtype: int64"
      ]
     },
     "execution_count": 5,
     "metadata": {},
     "output_type": "execute_result"
    }
   ],
   "source": [
    "df['Converted'].value_counts()"
   ]
  },
  {
   "cell_type": "code",
   "execution_count": 6,
   "id": "03382133",
   "metadata": {},
   "outputs": [
    {
     "data": {
      "text/plain": [
       "Converted        0.785714\n",
       "Not Converted    0.214286\n",
       "Name: Converted, dtype: float64"
      ]
     },
     "execution_count": 6,
     "metadata": {},
     "output_type": "execute_result"
    }
   ],
   "source": [
    "df['Converted'].value_counts(normalize=True)"
   ]
  },
  {
   "cell_type": "markdown",
   "id": "ce9f5bc2",
   "metadata": {},
   "source": [
    "Boxplot for outliers "
   ]
  },
  {
   "cell_type": "code",
   "execution_count": 7,
   "id": "7c6a65b8",
   "metadata": {},
   "outputs": [
    {
     "name": "stderr",
     "output_type": "stream",
     "text": [
      "C:\\Users\\PRCHATUR\\Anaconda3\\lib\\site-packages\\seaborn\\_decorators.py:36: FutureWarning: Pass the following variable as a keyword arg: x. From version 0.12, the only valid positional argument will be `data`, and passing other arguments without an explicit keyword will result in an error or misinterpretation.\n",
      "  warnings.warn(\n"
     ]
    },
    {
     "data": {
      "text/plain": [
       "<AxesSubplot:xlabel='Frequency'>"
      ]
     },
     "execution_count": 7,
     "metadata": {},
     "output_type": "execute_result"
    },
    {
     "data": {
      "image/png": "[encoded data removed]",
      "text/plain": [
       "<Figure size 432x288 with 1 Axes>"
      ]
     },
     "metadata": {
      "needs_background": "light"
     },
     "output_type": "display_data"
    }
   ],
   "source": [
    "import seaborn as sns\n",
    "sns.boxplot(df['Frequency'])"
   ]
  },
  {
   "cell_type": "code",
   "execution_count": 8,
   "id": "6c7eaea8",
   "metadata": {
    "scrolled": true
   },
   "outputs": [
    {
     "name": "stderr",
     "output_type": "stream",
     "text": [
      "C:\\Users\\PRCHATUR\\Anaconda3\\lib\\site-packages\\seaborn\\_decorators.py:36: FutureWarning: Pass the following variable as a keyword arg: x. From version 0.12, the only valid positional argument will be `data`, and passing other arguments without an explicit keyword will result in an error or misinterpretation.\n",
      "  warnings.warn(\n"
     ]
    },
    {
     "data": {
      "text/plain": [
       "<AxesSubplot:xlabel='Density'>"
      ]
     },
     "execution_count": 8,
     "metadata": {},
     "output_type": "execute_result"
    },
    {
     "data": {
      "image/png": "[encoded data removed]",
      "text/plain": [
       "<Figure size 432x288 with 1 Axes>"
      ]
     },
     "metadata": {
      "needs_background": "light"
     },
     "output_type": "display_data"
    }
   ],
   "source": [
    "sns.boxplot(df['Density'])"
   ]
  },
  {
   "cell_type": "code",
   "execution_count": 9,
   "id": "08262616",
   "metadata": {
    "scrolled": true
   },
   "outputs": [
    {
     "name": "stderr",
     "output_type": "stream",
     "text": [
      "C:\\Users\\PRCHATUR\\Anaconda3\\lib\\site-packages\\seaborn\\_decorators.py:36: FutureWarning: Pass the following variable as a keyword arg: x. From version 0.12, the only valid positional argument will be `data`, and passing other arguments without an explicit keyword will result in an error or misinterpretation.\n",
      "  warnings.warn(\n"
     ]
    },
    {
     "data": {
      "text/plain": [
       "<AxesSubplot:xlabel='Time in min'>"
      ]
     },
     "execution_count": 9,
     "metadata": {},
     "output_type": "execute_result"
    },
    {
     "data": {
      "image/png": "[encoded data removed]",
      "text/plain": [
       "<Figure size 432x288 with 1 Axes>"
      ]
     },
     "metadata": {
      "needs_background": "light"
     },
     "output_type": "display_data"
    }
   ],
   "source": [
    "sns.boxplot(df['Time in min'])"
   ]
  },
  {
   "cell_type": "markdown",
   "id": "a836d019",
   "metadata": {},
   "source": [
    "We have some outliers but these are the real value so treatment is not mandatory "
   ]
  },
  {
   "cell_type": "code",
   "execution_count": 6,
   "id": "7e39a80b",
   "metadata": {},
   "outputs": [
    {
     "name": "stdout",
     "output_type": "stream",
     "text": [
      "<class 'pandas.core.frame.DataFrame'>\n",
      "RangeIndex: 14 entries, 0 to 13\n",
      "Data columns (total 6 columns):\n",
      " #   Column       Non-Null Count  Dtype \n",
      "---  ------       --------------  ----- \n",
      " 0   Features     14 non-null     object\n",
      " 1   Complexity   14 non-null     object\n",
      " 2   Frequency    14 non-null     int64 \n",
      " 3   Density      14 non-null     int64 \n",
      " 4   Time in min  14 non-null     int64 \n",
      " 5   Converted    14 non-null     object\n",
      "dtypes: int64(3), object(3)\n",
      "memory usage: 800.0+ bytes\n"
     ]
    }
   ],
   "source": [
    "df.info()"
   ]
  },
  {
   "cell_type": "markdown",
   "id": "f7e6b41f",
   "metadata": {},
   "source": [
    "## Correlation"
   ]
  },
  {
   "cell_type": "code",
   "execution_count": 11,
   "id": "ea259586",
   "metadata": {},
   "outputs": [
    {
     "name": "stdout",
     "output_type": "stream",
     "text": [
      "             Frequency   Density  Time in min\n",
      "Frequency     1.000000  0.383225     0.523086\n",
      "Density       0.383225  1.000000     0.508937\n",
      "Time in min   0.523086  0.508937     1.000000\n"
     ]
    },
    {
     "data": {
      "text/plain": [
       "<AxesSubplot:>"
      ]
     },
     "execution_count": 11,
     "metadata": {},
     "output_type": "execute_result"
    },
    {
     "data": {
      "image/png": "[encoded data removed]",
      "text/plain": [
       "<Figure size 720x576 with 2 Axes>"
      ]
     },
     "metadata": {},
     "output_type": "display_data"
    }
   ],
   "source": [
    "print(df.corr())\n",
    "plt.figure(figsize=(10,8))\n",
    "sns.set(font_scale=1.2)\n",
    "sns.heatmap(df[['Frequency','Density','Time in min']].corr(),annot=True)"
   ]
  },
  {
   "cell_type": "markdown",
   "id": "33c3b51c",
   "metadata": {},
   "source": [
    "## Train test split"
   ]
  },
  {
   "cell_type": "code",
   "execution_count": 12,
   "id": "bc63891b",
   "metadata": {},
   "outputs": [],
   "source": [
    "from sklearn.model_selection import train_test_split"
   ]
  },
  {
   "cell_type": "code",
   "execution_count": 13,
   "id": "59175abe",
   "metadata": {},
   "outputs": [],
   "source": [
    "y=df['Converted']\n",
    "x=df.drop(['Converted'],axis=1)"
   ]
  },
  {
   "cell_type": "code",
   "execution_count": 14,
   "id": "5a60a8c4",
   "metadata": {},
   "outputs": [],
   "source": [
    "x_train, x_test, y_train, y_test=train_test_split(x,y, test_size=0.30, random_state=123)"
   ]
  },
  {
   "cell_type": "code",
   "execution_count": 27,
   "id": "3bd9240b",
   "metadata": {},
   "outputs": [
    {
     "name": "stdout",
     "output_type": "stream",
     "text": [
      "x_train:   (9, 5)\n",
      "x_test:   (5, 5)\n",
      "y_train:   (9,)\n",
      "y_test:   (5,)\n"
     ]
    }
   ],
   "source": [
    "print('x_train:  ',x_train.shape)\n",
    "print('x_test:  ',x_test.shape)\n",
    "print('y_train:  ',y_train.shape)\n",
    "print('y_test:  ',y_test.shape)"
   ]
  },
  {
   "cell_type": "code",
   "execution_count": 28,
   "id": "d655741a",
   "metadata": {},
   "outputs": [],
   "source": [
    "# Scaling\n",
    "from sklearn.preprocessing import StandardScaler\n",
    "sc=StandardScaler()"
   ]
  },
  {
   "cell_type": "code",
   "execution_count": 29,
   "id": "71374192",
   "metadata": {
    "scrolled": true
   },
   "outputs": [
    {
     "data": {
      "text/plain": [
       "array([[ 0.10878566, -1.14904852,  2.60962118,  0.19416922,  0.77538829],\n",
       "       [-0.38074981, -0.35355339, -0.38531319, -0.4911339 ,  0.77538829],\n",
       "       [-1.35982073,  1.23743687, -0.54294132, -0.72413696, -1.21846731],\n",
       "       [ 0.84308885,  1.23743687, -0.54294132, -0.64190058, -1.21846731],\n",
       "       [ 1.33262432,  0.44194174, -0.54294132, -0.32666115, -0.72000341],\n",
       "       [-0.87028527, -1.14904852,  0.71808368,  2.59958315,  1.77231608],\n",
       "       [-0.13598207, -0.35355339, -0.54294132, -0.51854602, -0.72000341],\n",
       "       [ 1.57739205, -1.14904852, -0.54294132,  0.52311471, -0.22153951],\n",
       "       [-1.115053  ,  1.23743687, -0.22768507, -0.61448846,  0.77538829]])"
      ]
     },
     "execution_count": 29,
     "metadata": {},
     "output_type": "execute_result"
    }
   ],
   "source": [
    "x_train=sc.fit_transform(x_train)\n",
    "x_train"
   ]
  },
  {
   "cell_type": "code",
   "execution_count": 30,
   "id": "22e2152f",
   "metadata": {},
   "outputs": [
    {
     "data": {
      "text/plain": [
       "array([[-0.62551754,  1.23743687,  0.40282743, -0.49798693,  1.77231608],\n",
       "       [ 0.35355339,  1.23743687,  0.24519931, -0.55281118, -0.22153951],\n",
       "       [ 1.82215978, -0.35355339, -0.54294132, -0.45001571, -0.72000341],\n",
       "       [ 1.08785659,  1.23743687, -0.38531319, -0.62134149, -0.22153951],\n",
       "       [ 0.59832112, -0.35355339, -0.38531319, -0.25813084,  0.77538829]])"
      ]
     },
     "execution_count": 30,
     "metadata": {},
     "output_type": "execute_result"
    }
   ],
   "source": [
    "x_test=sc.transform(x_test)\n",
    "x_test"
   ]
  },
  {
   "cell_type": "code",
   "execution_count": 31,
   "id": "d540b51f",
   "metadata": {},
   "outputs": [],
   "source": [
    "clf=MLPClassifier(hidden_layer_sizes=100, max_iter=50000, solver='sgd', verbose=True, random_state=1,tol=0.0001)"
   ]
  },
  {
   "cell_type": "code",
   "execution_count": 32,
   "id": "bd28ac52",
   "metadata": {
    "scrolled": true
   },
   "outputs": [
    {
     "name": "stdout",
     "output_type": "stream",
     "text": [
      "Iteration 1, loss = 0.70228364\n",
      "Iteration 2, loss = 0.70076166\n",
      "Iteration 3, loss = 0.69859972\n",
      "Iteration 4, loss = 0.69587087\n",
      "Iteration 5, loss = 0.69264469\n",
      "Iteration 6, loss = 0.68899012\n",
      "Iteration 7, loss = 0.68496053\n",
      "Iteration 8, loss = 0.68060344\n",
      "Iteration 9, loss = 0.67596563\n",
      "Iteration 10, loss = 0.67108954\n",
      "Iteration 11, loss = 0.66601354\n",
      "Iteration 12, loss = 0.66077223\n",
      "Iteration 13, loss = 0.65539672\n",
      "Iteration 14, loss = 0.64991489\n",
      "Iteration 15, loss = 0.64435269\n",
      "Iteration 16, loss = 0.63873176\n",
      "Iteration 17, loss = 0.63310155\n",
      "Iteration 18, loss = 0.62745342\n",
      "Iteration 19, loss = 0.62179968\n",
      "Iteration 20, loss = 0.61615384\n",
      "Iteration 21, loss = 0.61052854\n",
      "Iteration 22, loss = 0.60493309\n",
      "Iteration 23, loss = 0.59938078\n",
      "Iteration 24, loss = 0.59387708\n",
      "Iteration 25, loss = 0.58842188\n",
      "Iteration 26, loss = 0.58302430\n",
      "Iteration 27, loss = 0.57768944\n",
      "Iteration 28, loss = 0.57242376\n",
      "Iteration 29, loss = 0.56722707\n",
      "Iteration 30, loss = 0.56210327\n",
      "Iteration 31, loss = 0.55705448\n",
      "Iteration 32, loss = 0.55208125\n",
      "Iteration 33, loss = 0.54718489\n",
      "Iteration 34, loss = 0.54236604\n",
      "Iteration 35, loss = 0.53762521\n",
      "Iteration 36, loss = 0.53296259\n",
      "Iteration 37, loss = 0.52837810\n",
      "Iteration 38, loss = 0.52387146\n",
      "Iteration 39, loss = 0.51944245\n",
      "Iteration 40, loss = 0.51508983\n",
      "Iteration 41, loss = 0.51081397\n",
      "Iteration 42, loss = 0.50661286\n",
      "Iteration 43, loss = 0.50248566\n",
      "Iteration 44, loss = 0.49843105\n",
      "Iteration 45, loss = 0.49444768\n",
      "Iteration 46, loss = 0.49053487\n",
      "Iteration 47, loss = 0.48669110\n",
      "Iteration 48, loss = 0.48290822\n",
      "Iteration 49, loss = 0.47919272\n",
      "Iteration 50, loss = 0.47554598\n",
      "Iteration 51, loss = 0.47196272\n",
      "Iteration 52, loss = 0.46844160\n",
      "Iteration 53, loss = 0.46498135\n",
      "Iteration 54, loss = 0.46158618\n",
      "Iteration 55, loss = 0.45825104\n",
      "Iteration 56, loss = 0.45497232\n",
      "Iteration 57, loss = 0.45174901\n",
      "Iteration 58, loss = 0.44857471\n",
      "Iteration 59, loss = 0.44545152\n",
      "Iteration 60, loss = 0.44237943\n",
      "Iteration 61, loss = 0.43935732\n",
      "Iteration 62, loss = 0.43638411\n",
      "Iteration 63, loss = 0.43345880\n",
      "Iteration 64, loss = 0.43058140\n",
      "Iteration 65, loss = 0.42775266\n",
      "Iteration 66, loss = 0.42496822\n",
      "Iteration 67, loss = 0.42222748\n",
      "Iteration 68, loss = 0.41952954\n",
      "Iteration 69, loss = 0.41687315\n",
      "Iteration 70, loss = 0.41425739\n",
      "Iteration 71, loss = 0.41168132\n",
      "Iteration 72, loss = 0.40914450\n",
      "Iteration 73, loss = 0.40664849\n",
      "Iteration 74, loss = 0.40418945\n",
      "Iteration 75, loss = 0.40176638\n",
      "Iteration 76, loss = 0.39937910\n",
      "Iteration 77, loss = 0.39703560\n",
      "Iteration 78, loss = 0.39473643\n",
      "Iteration 79, loss = 0.39247013\n",
      "Iteration 80, loss = 0.39023612\n",
      "Iteration 81, loss = 0.38803511\n",
      "Iteration 82, loss = 0.38586596\n",
      "Iteration 83, loss = 0.38372744\n",
      "Iteration 84, loss = 0.38161825\n",
      "Iteration 85, loss = 0.37953768\n",
      "Iteration 86, loss = 0.37748477\n",
      "Iteration 87, loss = 0.37545893\n",
      "Iteration 88, loss = 0.37346063\n",
      "Iteration 89, loss = 0.37148737\n",
      "Iteration 90, loss = 0.36954177\n",
      "Iteration 91, loss = 0.36762111\n",
      "Iteration 92, loss = 0.36572518\n",
      "Iteration 93, loss = 0.36385376\n",
      "Iteration 94, loss = 0.36200559\n",
      "Iteration 95, loss = 0.36018132\n",
      "Iteration 96, loss = 0.35837903\n",
      "Iteration 97, loss = 0.35659894\n",
      "Iteration 98, loss = 0.35483993\n",
      "Iteration 99, loss = 0.35310013\n",
      "Iteration 100, loss = 0.35138089\n",
      "Iteration 101, loss = 0.34968220\n",
      "Iteration 102, loss = 0.34800273\n",
      "Iteration 103, loss = 0.34633931\n",
      "Iteration 104, loss = 0.34469182\n",
      "Iteration 105, loss = 0.34306483\n",
      "Iteration 106, loss = 0.34145506\n",
      "Iteration 107, loss = 0.33986272\n",
      "Iteration 108, loss = 0.33828894\n",
      "Iteration 109, loss = 0.33673185\n",
      "Iteration 110, loss = 0.33519228\n",
      "Iteration 111, loss = 0.33366855\n",
      "Iteration 112, loss = 0.33216096\n",
      "Iteration 113, loss = 0.33067213\n",
      "Iteration 114, loss = 0.32919887\n",
      "Iteration 115, loss = 0.32774094\n",
      "Iteration 116, loss = 0.32629952\n",
      "Iteration 117, loss = 0.32487145\n",
      "Iteration 118, loss = 0.32345871\n",
      "Iteration 119, loss = 0.32206007\n",
      "Iteration 120, loss = 0.32067527\n",
      "Iteration 121, loss = 0.31930518\n",
      "Iteration 122, loss = 0.31794792\n",
      "Iteration 123, loss = 0.31660417\n",
      "Iteration 124, loss = 0.31527411\n",
      "Iteration 125, loss = 0.31396602\n",
      "Iteration 126, loss = 0.31267158\n",
      "Iteration 127, loss = 0.31138796\n",
      "Iteration 128, loss = 0.31011777\n",
      "Iteration 129, loss = 0.30885886\n",
      "Iteration 130, loss = 0.30761151\n",
      "Iteration 131, loss = 0.30637615\n",
      "Iteration 132, loss = 0.30515190\n",
      "Iteration 133, loss = 0.30393765\n",
      "Iteration 134, loss = 0.30273388\n",
      "Iteration 135, loss = 0.30154015\n",
      "Iteration 136, loss = 0.30035741\n",
      "Iteration 137, loss = 0.29918470\n",
      "Iteration 138, loss = 0.29802211\n",
      "Iteration 139, loss = 0.29687031\n",
      "Iteration 140, loss = 0.29572770\n",
      "Iteration 141, loss = 0.29459457\n",
      "Iteration 142, loss = 0.29347188\n",
      "Iteration 143, loss = 0.29235734\n",
      "Iteration 144, loss = 0.29125250\n",
      "Iteration 145, loss = 0.29015655\n",
      "Iteration 146, loss = 0.28906961\n",
      "Iteration 147, loss = 0.28799213\n",
      "Iteration 148, loss = 0.28692271\n",
      "Iteration 149, loss = 0.28586200\n",
      "Iteration 150, loss = 0.28481029\n",
      "Iteration 151, loss = 0.28376630\n",
      "Iteration 152, loss = 0.28273136\n",
      "Iteration 153, loss = 0.28170367\n",
      "Iteration 154, loss = 0.28068459\n",
      "Iteration 155, loss = 0.27967412\n",
      "Iteration 156, loss = 0.27867406\n",
      "Iteration 157, loss = 0.27768189\n",
      "Iteration 158, loss = 0.27669711\n",
      "Iteration 159, loss = 0.27571928\n",
      "Iteration 160, loss = 0.27474976\n",
      "Iteration 161, loss = 0.27378844\n",
      "Iteration 162, loss = 0.27283612\n",
      "Iteration 163, loss = 0.27189026\n",
      "Iteration 164, loss = 0.27095100\n",
      "Iteration 165, loss = 0.27001901\n",
      "Iteration 166, loss = 0.26909321\n",
      "Iteration 167, loss = 0.26817379\n",
      "Iteration 168, loss = 0.26726238\n",
      "Iteration 169, loss = 0.26635572\n",
      "Iteration 170, loss = 0.26545677\n",
      "Iteration 171, loss = 0.26456344\n",
      "Iteration 172, loss = 0.26367618\n",
      "Iteration 173, loss = 0.26279563\n",
      "Iteration 174, loss = 0.26192066\n",
      "Iteration 175, loss = 0.26105144\n",
      "Iteration 176, loss = 0.26018984\n",
      "Iteration 177, loss = 0.25933382\n",
      "Iteration 178, loss = 0.25849016\n",
      "Iteration 179, loss = 0.25765229\n",
      "Iteration 180, loss = 0.25681817\n",
      "Iteration 181, loss = 0.25599077\n",
      "Iteration 182, loss = 0.25516873\n",
      "Iteration 183, loss = 0.25435140\n",
      "Iteration 184, loss = 0.25354067\n",
      "Iteration 185, loss = 0.25273466\n",
      "Iteration 186, loss = 0.25193436\n",
      "Iteration 187, loss = 0.25114079\n",
      "Iteration 188, loss = 0.25035109\n",
      "Iteration 189, loss = 0.24956575\n",
      "Iteration 190, loss = 0.24878616\n",
      "Iteration 191, loss = 0.24801304\n",
      "Iteration 192, loss = 0.24725270\n",
      "Iteration 193, loss = 0.24649756\n",
      "Iteration 194, loss = 0.24574755\n",
      "Iteration 195, loss = 0.24500500\n",
      "Iteration 196, loss = 0.24426348\n",
      "Iteration 197, loss = 0.24352753\n",
      "Iteration 198, loss = 0.24279462\n",
      "Iteration 199, loss = 0.24206716\n",
      "Iteration 200, loss = 0.24134423\n",
      "Iteration 201, loss = 0.24062427\n",
      "Iteration 202, loss = 0.23990749\n",
      "Iteration 203, loss = 0.23919683\n",
      "Iteration 204, loss = 0.23848724\n",
      "Iteration 205, loss = 0.23778379\n",
      "Iteration 206, loss = 0.23708337\n",
      "Iteration 207, loss = 0.23638651\n",
      "Iteration 208, loss = 0.23570405\n",
      "Iteration 209, loss = 0.23502455\n",
      "Iteration 210, loss = 0.23434777\n",
      "Iteration 211, loss = 0.23367476\n",
      "Iteration 212, loss = 0.23300878\n",
      "Iteration 213, loss = 0.23235493\n",
      "Iteration 214, loss = 0.23170550\n",
      "Iteration 215, loss = 0.23105826\n",
      "Iteration 216, loss = 0.23041548\n",
      "Iteration 217, loss = 0.22977473\n",
      "Iteration 218, loss = 0.22913755\n",
      "Iteration 219, loss = 0.22850405\n",
      "Iteration 220, loss = 0.22787356\n",
      "Iteration 221, loss = 0.22724581\n",
      "Iteration 222, loss = 0.22662243\n",
      "Iteration 223, loss = 0.22600160\n",
      "Iteration 224, loss = 0.22538373\n",
      "Iteration 225, loss = 0.22476969\n",
      "Iteration 226, loss = 0.22415823\n",
      "Iteration 227, loss = 0.22354920\n",
      "Iteration 228, loss = 0.22294571\n",
      "Iteration 229, loss = 0.22234270\n",
      "Iteration 230, loss = 0.22174425\n",
      "Iteration 231, loss = 0.22114881\n",
      "Iteration 232, loss = 0.22055913\n",
      "Iteration 233, loss = 0.21997179\n",
      "Iteration 234, loss = 0.21938646\n",
      "Iteration 235, loss = 0.21880310\n",
      "Iteration 236, loss = 0.21822265\n",
      "Iteration 237, loss = 0.21764327\n",
      "Iteration 238, loss = 0.21706953\n",
      "Iteration 239, loss = 0.21649908\n",
      "Iteration 240, loss = 0.21592970\n",
      "Iteration 241, loss = 0.21536540\n",
      "Iteration 242, loss = 0.21480225\n",
      "Iteration 243, loss = 0.21424467\n",
      "Iteration 244, loss = 0.21369021\n",
      "Iteration 245, loss = 0.21313921\n",
      "Iteration 246, loss = 0.21258983\n",
      "Iteration 247, loss = 0.21204439\n",
      "Iteration 248, loss = 0.21150004\n",
      "Iteration 249, loss = 0.21095895\n",
      "Iteration 250, loss = 0.21042013\n",
      "Iteration 251, loss = 0.20988426\n",
      "Iteration 252, loss = 0.20935026\n",
      "Iteration 253, loss = 0.20882707\n",
      "Iteration 254, loss = 0.20830606\n",
      "Iteration 255, loss = 0.20778923\n",
      "Iteration 256, loss = 0.20727235\n",
      "Iteration 257, loss = 0.20675834\n",
      "Iteration 258, loss = 0.20624638\n",
      "Iteration 259, loss = 0.20573721\n",
      "Iteration 260, loss = 0.20522826\n",
      "Iteration 261, loss = 0.20472417\n",
      "Iteration 262, loss = 0.20422318\n",
      "Iteration 263, loss = 0.20372768\n",
      "Iteration 264, loss = 0.20323403\n",
      "Iteration 265, loss = 0.20274128\n",
      "Iteration 266, loss = 0.20225018\n",
      "Iteration 267, loss = 0.20176400\n",
      "Iteration 268, loss = 0.20127718\n",
      "Iteration 269, loss = 0.20079325\n",
      "Iteration 270, loss = 0.20031136\n",
      "Iteration 271, loss = 0.19983077\n",
      "Iteration 272, loss = 0.19935383\n",
      "Iteration 273, loss = 0.19887757\n",
      "Iteration 274, loss = 0.19840325\n",
      "Iteration 275, loss = 0.19793255\n",
      "Iteration 276, loss = 0.19746186\n",
      "Iteration 277, loss = 0.19699642\n",
      "Iteration 278, loss = 0.19653258\n",
      "Iteration 279, loss = 0.19607033\n",
      "Iteration 280, loss = 0.19560960\n",
      "Iteration 281, loss = 0.19514878\n",
      "Iteration 282, loss = 0.19469206\n",
      "Iteration 283, loss = 0.19423750\n",
      "Iteration 284, loss = 0.19378432\n",
      "Iteration 285, loss = 0.19333196\n",
      "Iteration 286, loss = 0.19288394\n",
      "Iteration 287, loss = 0.19243512\n",
      "Iteration 288, loss = 0.19199036\n",
      "Iteration 289, loss = 0.19154720\n",
      "Iteration 290, loss = 0.19110556\n",
      "Iteration 291, loss = 0.19066581\n",
      "Iteration 292, loss = 0.19022796\n",
      "Iteration 293, loss = 0.18979167\n",
      "Iteration 294, loss = 0.18936416\n",
      "Iteration 295, loss = 0.18893917\n",
      "Iteration 296, loss = 0.18851506\n",
      "Iteration 297, loss = 0.18809440\n",
      "Iteration 298, loss = 0.18767305\n",
      "Iteration 299, loss = 0.18725275\n",
      "Iteration 300, loss = 0.18683547\n",
      "Iteration 301, loss = 0.18641814\n",
      "Iteration 302, loss = 0.18600467\n",
      "Iteration 303, loss = 0.18559090\n",
      "Iteration 304, loss = 0.18517770\n",
      "Iteration 305, loss = 0.18476751\n",
      "Iteration 306, loss = 0.18435891\n",
      "Iteration 307, loss = 0.18395110\n",
      "Iteration 308, loss = 0.18354464\n",
      "Iteration 309, loss = 0.18314057\n",
      "Iteration 310, loss = 0.18273740\n",
      "Iteration 311, loss = 0.18233689\n",
      "Iteration 312, loss = 0.18193597\n",
      "Iteration 313, loss = 0.18153736\n",
      "Iteration 314, loss = 0.18114124\n",
      "Iteration 315, loss = 0.18074429\n",
      "Iteration 316, loss = 0.18035095\n",
      "Iteration 317, loss = 0.17995886\n",
      "Iteration 318, loss = 0.17956629\n",
      "Iteration 319, loss = 0.17917627\n",
      "Iteration 320, loss = 0.17878776\n",
      "Iteration 321, loss = 0.17840107\n",
      "Iteration 322, loss = 0.17801493\n",
      "Iteration 323, loss = 0.17763136\n",
      "Iteration 324, loss = 0.17724745\n",
      "Iteration 325, loss = 0.17686793\n",
      "Iteration 326, loss = 0.17648670\n",
      "Iteration 327, loss = 0.17610732\n",
      "Iteration 328, loss = 0.17573104\n",
      "Iteration 329, loss = 0.17535423\n",
      "Iteration 330, loss = 0.17497966\n",
      "Iteration 331, loss = 0.17460727\n",
      "Iteration 332, loss = 0.17423544\n",
      "Iteration 333, loss = 0.17386554\n",
      "Iteration 334, loss = 0.17349565\n",
      "Iteration 335, loss = 0.17312794\n",
      "Iteration 336, loss = 0.17276119\n",
      "Iteration 337, loss = 0.17239659\n",
      "Iteration 338, loss = 0.17203257\n",
      "Iteration 339, loss = 0.17167041\n",
      "Iteration 340, loss = 0.17130835\n",
      "Iteration 341, loss = 0.17094788\n",
      "Iteration 342, loss = 0.17059024\n",
      "Iteration 343, loss = 0.17023155\n",
      "Iteration 344, loss = 0.16987546\n",
      "Iteration 345, loss = 0.16952038\n",
      "Iteration 346, loss = 0.16916561\n",
      "Iteration 347, loss = 0.16881232\n",
      "Iteration 348, loss = 0.16846144\n",
      "Iteration 349, loss = 0.16810989\n",
      "Iteration 350, loss = 0.16776067\n",
      "Iteration 351, loss = 0.16741272\n",
      "Iteration 352, loss = 0.16706575\n",
      "Iteration 353, loss = 0.16672023\n",
      "Iteration 354, loss = 0.16637535\n",
      "Iteration 355, loss = 0.16603222\n",
      "Iteration 356, loss = 0.16569081\n",
      "Iteration 357, loss = 0.16534877\n",
      "Iteration 358, loss = 0.16500820\n",
      "Iteration 359, loss = 0.16467088\n",
      "Iteration 360, loss = 0.16433192\n",
      "Iteration 361, loss = 0.16399620\n",
      "Iteration 362, loss = 0.16366020\n",
      "Iteration 363, loss = 0.16332543\n",
      "Iteration 364, loss = 0.16299176\n",
      "Iteration 365, loss = 0.16265954\n",
      "Iteration 366, loss = 0.16232774\n",
      "Iteration 367, loss = 0.16199905\n",
      "Iteration 368, loss = 0.16166794\n",
      "Iteration 369, loss = 0.16134104\n",
      "Iteration 370, loss = 0.16101374\n",
      "Iteration 371, loss = 0.16068706\n",
      "Iteration 372, loss = 0.16036195\n",
      "Iteration 373, loss = 0.16003886\n",
      "Iteration 374, loss = 0.15971462\n",
      "Iteration 375, loss = 0.15939354\n",
      "Iteration 376, loss = 0.15907339\n",
      "Iteration 377, loss = 0.15875200\n",
      "Iteration 378, loss = 0.15843259\n",
      "Iteration 379, loss = 0.15811579\n",
      "Iteration 380, loss = 0.15779763\n",
      "Iteration 381, loss = 0.15748174\n",
      "Iteration 382, loss = 0.15716661\n",
      "Iteration 383, loss = 0.15685164\n",
      "Iteration 384, loss = 0.15653996\n",
      "Iteration 385, loss = 0.15622636\n",
      "Iteration 386, loss = 0.15591490\n",
      "Iteration 387, loss = 0.15560498\n",
      "Iteration 388, loss = 0.15529497\n",
      "Iteration 389, loss = 0.15498704\n",
      "Iteration 390, loss = 0.15467946\n",
      "Iteration 391, loss = 0.15437201\n",
      "Iteration 392, loss = 0.15406646\n",
      "Iteration 393, loss = 0.15376233\n",
      "Iteration 394, loss = 0.15345707\n",
      "Iteration 395, loss = 0.15315545\n",
      "Iteration 396, loss = 0.15285244\n",
      "Iteration 397, loss = 0.15255093\n",
      "Iteration 398, loss = 0.15225048\n",
      "Iteration 399, loss = 0.15195194\n",
      "Iteration 400, loss = 0.15165271\n",
      "Iteration 401, loss = 0.15135529\n",
      "Iteration 402, loss = 0.15105883\n",
      "Iteration 403, loss = 0.15076224\n",
      "Iteration 404, loss = 0.15046763\n",
      "Iteration 405, loss = 0.15017414\n",
      "Iteration 406, loss = 0.14987989\n",
      "Iteration 407, loss = 0.14958764\n",
      "Iteration 408, loss = 0.14929610\n",
      "Iteration 409, loss = 0.14900544\n",
      "Iteration 410, loss = 0.14871514\n",
      "Iteration 411, loss = 0.14842709\n",
      "Iteration 412, loss = 0.14813800\n",
      "Iteration 413, loss = 0.14785047\n",
      "Iteration 414, loss = 0.14756351\n",
      "Iteration 415, loss = 0.14727796\n",
      "Iteration 416, loss = 0.14699353\n",
      "Iteration 417, loss = 0.14670826\n",
      "Iteration 418, loss = 0.14642603\n",
      "Iteration 419, loss = 0.14614407\n",
      "Iteration 420, loss = 0.14586223\n",
      "Iteration 421, loss = 0.14558100\n",
      "Iteration 422, loss = 0.14530179\n",
      "Iteration 423, loss = 0.14502353\n",
      "Iteration 424, loss = 0.14474512\n",
      "Iteration 425, loss = 0.14446755\n",
      "Iteration 426, loss = 0.14419077\n",
      "Iteration 427, loss = 0.14391433\n",
      "Iteration 428, loss = 0.14364120\n",
      "Iteration 429, loss = 0.14336499\n",
      "Iteration 430, loss = 0.14309159\n",
      "Iteration 431, loss = 0.14282051\n",
      "Iteration 432, loss = 0.14254700\n",
      "Iteration 433, loss = 0.14227696\n",
      "Iteration 434, loss = 0.14200706\n",
      "Iteration 435, loss = 0.14173682\n",
      "Iteration 436, loss = 0.14146765\n",
      "Iteration 437, loss = 0.14120067\n",
      "Iteration 438, loss = 0.14093183\n",
      "Iteration 439, loss = 0.14066709\n",
      "Iteration 440, loss = 0.14040028\n",
      "Iteration 441, loss = 0.14013497\n",
      "Iteration 442, loss = 0.13987083\n",
      "Iteration 443, loss = 0.13960743\n",
      "Iteration 444, loss = 0.13934327\n",
      "Iteration 445, loss = 0.13908322\n",
      "Iteration 446, loss = 0.13882078\n",
      "Iteration 447, loss = 0.13855945\n",
      "Iteration 448, loss = 0.13829997\n",
      "Iteration 449, loss = 0.13803974\n",
      "Iteration 450, loss = 0.13778077\n",
      "Iteration 451, loss = 0.13752340\n",
      "Iteration 452, loss = 0.13726552\n",
      "Iteration 453, loss = 0.13700841\n",
      "Iteration 454, loss = 0.13675392\n",
      "Iteration 455, loss = 0.13649633\n",
      "Iteration 456, loss = 0.13624313\n",
      "Iteration 457, loss = 0.13598894\n",
      "Iteration 458, loss = 0.13573493\n",
      "Iteration 459, loss = 0.13548200\n",
      "Iteration 460, loss = 0.13523023\n",
      "Iteration 461, loss = 0.13497830\n",
      "Iteration 462, loss = 0.13472808\n",
      "Iteration 463, loss = 0.13447746\n",
      "Iteration 464, loss = 0.13422809\n",
      "Iteration 465, loss = 0.13397926\n",
      "Iteration 466, loss = 0.13373135\n",
      "Iteration 467, loss = 0.13348374\n",
      "Iteration 468, loss = 0.13323780\n",
      "Iteration 469, loss = 0.13299022\n",
      "Iteration 470, loss = 0.13274599\n",
      "Iteration 471, loss = 0.13250000\n",
      "Iteration 472, loss = 0.13225649\n",
      "Iteration 473, loss = 0.13201314\n",
      "Iteration 474, loss = 0.13176958\n",
      "Iteration 475, loss = 0.13152665\n",
      "Iteration 476, loss = 0.13128570\n",
      "Iteration 477, loss = 0.13104373\n",
      "Iteration 478, loss = 0.13080451\n",
      "Iteration 479, loss = 0.13056426\n",
      "Iteration 480, loss = 0.13032530\n",
      "Iteration 481, loss = 0.13008581\n",
      "Iteration 482, loss = 0.12984881\n",
      "Iteration 483, loss = 0.12961125\n",
      "Iteration 484, loss = 0.12937423\n",
      "Iteration 485, loss = 0.12913797\n",
      "Iteration 486, loss = 0.12890294\n",
      "Iteration 487, loss = 0.12866801\n",
      "Iteration 488, loss = 0.12843356\n",
      "Iteration 489, loss = 0.12819964\n",
      "Iteration 490, loss = 0.12796683\n",
      "Iteration 491, loss = 0.12773462\n",
      "Iteration 492, loss = 0.12750291\n",
      "Iteration 493, loss = 0.12727151\n",
      "Iteration 494, loss = 0.12704008\n",
      "Iteration 495, loss = 0.12681025\n",
      "Iteration 496, loss = 0.12658084\n",
      "Iteration 497, loss = 0.12635198\n",
      "Iteration 498, loss = 0.12612309\n",
      "Iteration 499, loss = 0.12589687\n",
      "Iteration 500, loss = 0.12566873\n",
      "Iteration 501, loss = 0.12544188\n",
      "Iteration 502, loss = 0.12521586\n",
      "Iteration 503, loss = 0.12499001\n",
      "Iteration 504, loss = 0.12476573\n",
      "Iteration 505, loss = 0.12454164\n",
      "Iteration 506, loss = 0.12431704\n",
      "Iteration 507, loss = 0.12409503\n",
      "Iteration 508, loss = 0.12387160\n",
      "Iteration 509, loss = 0.12364902\n",
      "Iteration 510, loss = 0.12342889\n",
      "Iteration 511, loss = 0.12320694\n",
      "Iteration 512, loss = 0.12298677\n",
      "Iteration 513, loss = 0.12276730\n",
      "Iteration 514, loss = 0.12254801\n",
      "Iteration 515, loss = 0.12232821\n",
      "Iteration 516, loss = 0.12211180\n",
      "Iteration 517, loss = 0.12189257\n",
      "Iteration 518, loss = 0.12167704\n",
      "Iteration 519, loss = 0.12145964\n",
      "Iteration 520, loss = 0.12124375\n",
      "Iteration 521, loss = 0.12102843\n",
      "Iteration 522, loss = 0.12081352\n",
      "Iteration 523, loss = 0.12059819\n",
      "Iteration 524, loss = 0.12038573\n",
      "Iteration 525, loss = 0.12017153\n",
      "Iteration 526, loss = 0.11996000\n",
      "Iteration 527, loss = 0.11974719\n",
      "Iteration 528, loss = 0.11953491\n",
      "Iteration 529, loss = 0.11932448\n",
      "Iteration 530, loss = 0.11911333\n",
      "Iteration 531, loss = 0.11890314\n",
      "Iteration 532, loss = 0.11869376\n",
      "Iteration 533, loss = 0.11848409\n",
      "Iteration 534, loss = 0.11827648\n",
      "Iteration 535, loss = 0.11806893\n",
      "Iteration 536, loss = 0.11785964\n",
      "Iteration 537, loss = 0.11765368\n",
      "Iteration 538, loss = 0.11744689\n",
      "Iteration 539, loss = 0.11724089\n",
      "Iteration 540, loss = 0.11703523\n",
      "Iteration 541, loss = 0.11682992\n",
      "Iteration 542, loss = 0.11662579\n",
      "Iteration 543, loss = 0.11642261\n",
      "Iteration 544, loss = 0.11621830\n",
      "Iteration 545, loss = 0.11601586\n",
      "Iteration 546, loss = 0.11581363\n",
      "Iteration 547, loss = 0.11561146\n",
      "Iteration 548, loss = 0.11540971\n",
      "Iteration 549, loss = 0.11520846\n",
      "Iteration 550, loss = 0.11500809\n",
      "Iteration 551, loss = 0.11480808\n",
      "Iteration 552, loss = 0.11460873\n",
      "Iteration 553, loss = 0.11440972\n",
      "Iteration 554, loss = 0.11421093\n",
      "Iteration 555, loss = 0.11401318\n",
      "Iteration 556, loss = 0.11381508\n",
      "Iteration 557, loss = 0.11361820\n",
      "Iteration 558, loss = 0.11342190\n",
      "Iteration 559, loss = 0.11322499\n",
      "Iteration 560, loss = 0.11302996\n",
      "Iteration 561, loss = 0.11283486\n",
      "Iteration 562, loss = 0.11263930\n",
      "Iteration 563, loss = 0.11244622\n",
      "Iteration 564, loss = 0.11225237\n",
      "Iteration 565, loss = 0.11205864\n",
      "Iteration 566, loss = 0.11186697\n",
      "Iteration 567, loss = 0.11167414\n",
      "Iteration 568, loss = 0.11148237\n",
      "Iteration 569, loss = 0.11129096\n",
      "Iteration 570, loss = 0.11110037\n",
      "Iteration 571, loss = 0.11091077\n",
      "Iteration 572, loss = 0.11072018\n",
      "Iteration 573, loss = 0.11053136\n",
      "Iteration 574, loss = 0.11034207\n",
      "Iteration 575, loss = 0.11015347\n",
      "Iteration 576, loss = 0.10996622\n",
      "Iteration 577, loss = 0.10977785\n",
      "Iteration 578, loss = 0.10959147\n",
      "Iteration 579, loss = 0.10940453\n",
      "Iteration 580, loss = 0.10921799\n",
      "Iteration 581, loss = 0.10903283\n",
      "Iteration 582, loss = 0.10884737\n",
      "Iteration 583, loss = 0.10866210\n",
      "Iteration 584, loss = 0.10847900\n",
      "Iteration 585, loss = 0.10829380\n",
      "Iteration 586, loss = 0.10811057\n",
      "Iteration 587, loss = 0.10792637\n",
      "Iteration 588, loss = 0.10774366\n",
      "Iteration 589, loss = 0.10756236\n",
      "Iteration 590, loss = 0.10737884\n",
      "Iteration 591, loss = 0.10719809\n",
      "Iteration 592, loss = 0.10701651\n",
      "Iteration 593, loss = 0.10683577\n",
      "Iteration 594, loss = 0.10665510\n",
      "Iteration 595, loss = 0.10647530\n",
      "Iteration 596, loss = 0.10629623\n",
      "Iteration 597, loss = 0.10611676\n",
      "Iteration 598, loss = 0.10593733\n",
      "Iteration 599, loss = 0.10575991\n",
      "Iteration 600, loss = 0.10558211\n",
      "Iteration 601, loss = 0.10540432\n",
      "Iteration 602, loss = 0.10522784\n",
      "Iteration 603, loss = 0.10505069\n",
      "Iteration 604, loss = 0.10487558\n",
      "Iteration 605, loss = 0.10469899\n",
      "Iteration 606, loss = 0.10452440\n",
      "Iteration 607, loss = 0.10434966\n",
      "Iteration 608, loss = 0.10417475\n",
      "Iteration 609, loss = 0.10400133\n",
      "Iteration 610, loss = 0.10382751\n",
      "Iteration 611, loss = 0.10365448\n",
      "Iteration 612, loss = 0.10348190\n",
      "Iteration 613, loss = 0.10330942\n",
      "Iteration 614, loss = 0.10313898\n",
      "Iteration 615, loss = 0.10296899\n",
      "Iteration 616, loss = 0.10279977\n",
      "Iteration 617, loss = 0.10263138\n",
      "Iteration 618, loss = 0.10246248\n",
      "Iteration 619, loss = 0.10229499\n",
      "Iteration 620, loss = 0.10212663\n",
      "Iteration 621, loss = 0.10195940\n",
      "Iteration 622, loss = 0.10179221\n",
      "Iteration 623, loss = 0.10162471\n",
      "Iteration 624, loss = 0.10145898\n",
      "Iteration 625, loss = 0.10129227\n",
      "Iteration 626, loss = 0.10112622\n",
      "Iteration 627, loss = 0.10096108\n",
      "Iteration 628, loss = 0.10079554\n",
      "Iteration 629, loss = 0.10063079\n",
      "Iteration 630, loss = 0.10046574\n",
      "Iteration 631, loss = 0.10030157\n",
      "Iteration 632, loss = 0.10013846\n",
      "Iteration 633, loss = 0.09997432\n",
      "Iteration 634, loss = 0.09981143\n",
      "Iteration 635, loss = 0.09964920\n",
      "Iteration 636, loss = 0.09948729\n",
      "Iteration 637, loss = 0.09932523\n",
      "Iteration 638, loss = 0.09916408\n",
      "Iteration 639, loss = 0.09900305\n",
      "Iteration 640, loss = 0.09884244\n",
      "Iteration 641, loss = 0.09868238\n",
      "Iteration 642, loss = 0.09852224\n",
      "Iteration 643, loss = 0.09836285\n",
      "Iteration 644, loss = 0.09820460\n",
      "Iteration 645, loss = 0.09804515\n",
      "Iteration 646, loss = 0.09788663\n",
      "Iteration 647, loss = 0.09772895\n",
      "Iteration 648, loss = 0.09757067\n",
      "Iteration 649, loss = 0.09741439\n",
      "Iteration 650, loss = 0.09725697\n",
      "Iteration 651, loss = 0.09710062\n",
      "Iteration 652, loss = 0.09694394\n",
      "Iteration 653, loss = 0.09678815\n",
      "Iteration 654, loss = 0.09663296\n",
      "Iteration 655, loss = 0.09647731\n",
      "Iteration 656, loss = 0.09632427\n",
      "Iteration 657, loss = 0.09617017\n",
      "Iteration 658, loss = 0.09601646\n",
      "Iteration 659, loss = 0.09586330\n",
      "Iteration 660, loss = 0.09571018\n",
      "Iteration 661, loss = 0.09555845\n",
      "Iteration 662, loss = 0.09540616\n",
      "Iteration 663, loss = 0.09525450\n",
      "Iteration 664, loss = 0.09510374\n",
      "Iteration 665, loss = 0.09495240\n",
      "Iteration 666, loss = 0.09480227\n",
      "Iteration 667, loss = 0.09465194\n",
      "Iteration 668, loss = 0.09450183\n",
      "Iteration 669, loss = 0.09435267\n",
      "Iteration 670, loss = 0.09420276\n",
      "Iteration 671, loss = 0.09405648\n",
      "Iteration 672, loss = 0.09391035\n",
      "Iteration 673, loss = 0.09376442\n",
      "Iteration 674, loss = 0.09361877\n",
      "Iteration 675, loss = 0.09347348\n",
      "Iteration 676, loss = 0.09332859\n",
      "Iteration 677, loss = 0.09318421\n",
      "Iteration 678, loss = 0.09303937\n",
      "Iteration 679, loss = 0.09289697\n",
      "Iteration 680, loss = 0.09275238\n",
      "Iteration 681, loss = 0.09260917\n",
      "Iteration 682, loss = 0.09246609\n",
      "Iteration 683, loss = 0.09232275\n",
      "Iteration 684, loss = 0.09218075\n",
      "Iteration 685, loss = 0.09203837\n",
      "Iteration 686, loss = 0.09189751\n",
      "Iteration 687, loss = 0.09175539\n",
      "Iteration 688, loss = 0.09161502\n",
      "Iteration 689, loss = 0.09147306\n",
      "Iteration 690, loss = 0.09133328\n",
      "Iteration 691, loss = 0.09119304\n",
      "Iteration 692, loss = 0.09105263\n",
      "Iteration 693, loss = 0.09091372\n",
      "Iteration 694, loss = 0.09077412\n",
      "Iteration 695, loss = 0.09063470\n",
      "Iteration 696, loss = 0.09049677\n",
      "Iteration 697, loss = 0.09035814\n",
      "Iteration 698, loss = 0.09022004\n",
      "Iteration 699, loss = 0.09008172\n",
      "Iteration 700, loss = 0.08994461\n",
      "Iteration 701, loss = 0.08980700\n",
      "Iteration 702, loss = 0.08967051\n",
      "Iteration 703, loss = 0.08953420\n",
      "Iteration 704, loss = 0.08939716\n",
      "Iteration 705, loss = 0.08926179\n",
      "Iteration 706, loss = 0.08912530\n",
      "Iteration 707, loss = 0.08898992\n",
      "Iteration 708, loss = 0.08885557\n",
      "Iteration 709, loss = 0.08872003\n",
      "Iteration 710, loss = 0.08858601\n",
      "Iteration 711, loss = 0.08845096\n",
      "Iteration 712, loss = 0.08831713\n",
      "Iteration 713, loss = 0.08818366\n",
      "Iteration 714, loss = 0.08804984\n",
      "Iteration 715, loss = 0.08791706\n",
      "Iteration 716, loss = 0.08778413\n",
      "Iteration 717, loss = 0.08765142\n",
      "Iteration 718, loss = 0.08751903\n",
      "Iteration 719, loss = 0.08738734\n",
      "Iteration 720, loss = 0.08725539\n",
      "Iteration 721, loss = 0.08712398\n",
      "Iteration 722, loss = 0.08699313\n",
      "Iteration 723, loss = 0.08686193\n",
      "Iteration 724, loss = 0.08673192\n",
      "Iteration 725, loss = 0.08660182\n",
      "Iteration 726, loss = 0.08647151\n",
      "Iteration 727, loss = 0.08634184\n",
      "Iteration 728, loss = 0.08621217\n",
      "Iteration 729, loss = 0.08608350\n",
      "Iteration 730, loss = 0.08595455\n",
      "Iteration 731, loss = 0.08582570\n",
      "Iteration 732, loss = 0.08569856\n",
      "Iteration 733, loss = 0.08556980\n",
      "Iteration 734, loss = 0.08544207\n",
      "Iteration 735, loss = 0.08531454\n",
      "Iteration 736, loss = 0.08518751\n",
      "Iteration 737, loss = 0.08506044\n",
      "Iteration 738, loss = 0.08493397\n",
      "Iteration 739, loss = 0.08480799\n",
      "Iteration 740, loss = 0.08468138\n",
      "Iteration 741, loss = 0.08455643\n",
      "Iteration 742, loss = 0.08443077\n",
      "Iteration 743, loss = 0.08430601\n",
      "Iteration 744, loss = 0.08418094\n",
      "Iteration 745, loss = 0.08405544\n",
      "Iteration 746, loss = 0.08393190\n",
      "Iteration 747, loss = 0.08380792\n",
      "Iteration 748, loss = 0.08368387\n",
      "Iteration 749, loss = 0.08356043\n",
      "Iteration 750, loss = 0.08343687\n",
      "Iteration 751, loss = 0.08331389\n",
      "Iteration 752, loss = 0.08319083\n",
      "Iteration 753, loss = 0.08306912\n",
      "Iteration 754, loss = 0.08294633\n",
      "Iteration 755, loss = 0.08282485\n",
      "Iteration 756, loss = 0.08270272\n",
      "Iteration 757, loss = 0.08258109\n",
      "Iteration 758, loss = 0.08246025\n",
      "Iteration 759, loss = 0.08233918\n",
      "Iteration 760, loss = 0.08221891\n",
      "Iteration 761, loss = 0.08209783\n",
      "Iteration 762, loss = 0.08197838\n",
      "Iteration 763, loss = 0.08185805\n",
      "Iteration 764, loss = 0.08173852\n",
      "Iteration 765, loss = 0.08161871\n",
      "Iteration 766, loss = 0.08150005\n",
      "Iteration 767, loss = 0.08138121\n",
      "Iteration 768, loss = 0.08126189\n",
      "Iteration 769, loss = 0.08114399\n",
      "Iteration 770, loss = 0.08102551\n",
      "Iteration 771, loss = 0.08090724\n",
      "Iteration 772, loss = 0.08078983\n",
      "Iteration 773, loss = 0.08067239\n",
      "Iteration 774, loss = 0.08055526\n",
      "Iteration 775, loss = 0.08043792\n",
      "Iteration 776, loss = 0.08032202\n",
      "Iteration 777, loss = 0.08020499\n",
      "Iteration 778, loss = 0.08008838\n",
      "Iteration 779, loss = 0.07997298\n",
      "Iteration 780, loss = 0.07985665\n",
      "Iteration 781, loss = 0.07974233\n",
      "Iteration 782, loss = 0.07962610\n",
      "Iteration 783, loss = 0.07951187\n",
      "Iteration 784, loss = 0.07939626\n",
      "Iteration 785, loss = 0.07928250\n",
      "Iteration 786, loss = 0.07916806\n",
      "Iteration 787, loss = 0.07905351\n",
      "Iteration 788, loss = 0.07894080\n",
      "Iteration 789, loss = 0.07882626\n",
      "Iteration 790, loss = 0.07871381\n",
      "Iteration 791, loss = 0.07859997\n",
      "Iteration 792, loss = 0.07848715\n",
      "Iteration 793, loss = 0.07837465\n",
      "Iteration 794, loss = 0.07826159\n",
      "Iteration 795, loss = 0.07815019\n",
      "Iteration 796, loss = 0.07803770\n",
      "Iteration 797, loss = 0.07792658\n",
      "Iteration 798, loss = 0.07781432\n",
      "Iteration 799, loss = 0.07770358\n",
      "Iteration 800, loss = 0.07759231\n",
      "Iteration 801, loss = 0.07748196\n",
      "Iteration 802, loss = 0.07737091\n",
      "Iteration 803, loss = 0.07726039\n",
      "Iteration 804, loss = 0.07715077\n",
      "Iteration 805, loss = 0.07704035\n",
      "Iteration 806, loss = 0.07693099\n",
      "Iteration 807, loss = 0.07682167\n",
      "Iteration 808, loss = 0.07671204\n",
      "Iteration 809, loss = 0.07660395\n",
      "Iteration 810, loss = 0.07649426\n",
      "Iteration 811, loss = 0.07638693\n",
      "Iteration 812, loss = 0.07627771\n",
      "Iteration 813, loss = 0.07616991\n",
      "Iteration 814, loss = 0.07606218\n",
      "Iteration 815, loss = 0.07595462\n",
      "Iteration 816, loss = 0.07584709\n",
      "Iteration 817, loss = 0.07574002\n",
      "Iteration 818, loss = 0.07563318\n",
      "Iteration 819, loss = 0.07552616\n",
      "Iteration 820, loss = 0.07542039\n",
      "Iteration 821, loss = 0.07531374\n",
      "Iteration 822, loss = 0.07520764\n",
      "Iteration 823, loss = 0.07510207\n",
      "Iteration 824, loss = 0.07499609\n",
      "Iteration 825, loss = 0.07489122\n",
      "Iteration 826, loss = 0.07478566\n",
      "Iteration 827, loss = 0.07468143\n",
      "Iteration 828, loss = 0.07457618\n",
      "Iteration 829, loss = 0.07447181\n",
      "Iteration 830, loss = 0.07436781\n",
      "Iteration 831, loss = 0.07426377\n",
      "Iteration 832, loss = 0.07415976\n",
      "Iteration 833, loss = 0.07405632\n",
      "Iteration 834, loss = 0.07395278\n",
      "Iteration 835, loss = 0.07384966\n",
      "Iteration 836, loss = 0.07374696\n",
      "Iteration 837, loss = 0.07364372\n",
      "Iteration 838, loss = 0.07354160\n",
      "Iteration 839, loss = 0.07343898\n",
      "Iteration 840, loss = 0.07333704\n",
      "Iteration 841, loss = 0.07323502\n",
      "Iteration 842, loss = 0.07313359\n",
      "Iteration 843, loss = 0.07303180\n",
      "Iteration 844, loss = 0.07293103\n",
      "Iteration 845, loss = 0.07282983\n",
      "Iteration 846, loss = 0.07272882\n",
      "Iteration 847, loss = 0.07262832\n",
      "Iteration 848, loss = 0.07252743\n",
      "Iteration 849, loss = 0.07242764\n",
      "Iteration 850, loss = 0.07232739\n",
      "Iteration 851, loss = 0.07222794\n",
      "Iteration 852, loss = 0.07212820\n",
      "Iteration 853, loss = 0.07202883\n",
      "Iteration 854, loss = 0.07192969\n",
      "Iteration 855, loss = 0.07183048\n",
      "Iteration 856, loss = 0.07173197\n",
      "Iteration 857, loss = 0.07163288\n",
      "Iteration 858, loss = 0.07153517\n",
      "Iteration 859, loss = 0.07143643\n",
      "Iteration 860, loss = 0.07133892\n",
      "Iteration 861, loss = 0.07124087\n",
      "Training loss did not improve more than tol=0.000100 for 10 consecutive epochs. Stopping.\n"
     ]
    },
    {
     "data": {
      "text/plain": [
       "MLPClassifier(hidden_layer_sizes=100, max_iter=50000, random_state=1,\n",
       "              solver='sgd', verbose=True)"
      ]
     },
     "execution_count": 32,
     "metadata": {},
     "output_type": "execute_result"
    }
   ],
   "source": [
    "clf.fit(x_train,y_train)"
   ]
  },
  {
   "cell_type": "markdown",
   "id": "c9cfaf2e",
   "metadata": {},
   "source": [
    "# Prediction on training data"
   ]
  },
  {
   "cell_type": "code",
   "execution_count": 33,
   "id": "9f115d3b",
   "metadata": {},
   "outputs": [
    {
     "data": {
      "text/plain": [
       "array([0, 0, 0, 0, 0, 0, 0, 0, 1], dtype=int8)"
      ]
     },
     "execution_count": 33,
     "metadata": {},
     "output_type": "execute_result"
    }
   ],
   "source": [
    "y_pred=clf.predict(x_train)\n",
    "y_pred"
   ]
  },
  {
   "cell_type": "code",
   "execution_count": 34,
   "id": "2b3be189",
   "metadata": {},
   "outputs": [],
   "source": [
    "from sklearn.metrics import confusion_matrix,classification_report"
   ]
  },
  {
   "cell_type": "code",
   "execution_count": 35,
   "id": "0bab8ea5",
   "metadata": {},
   "outputs": [
    {
     "data": {
      "text/plain": [
       "array([[8, 0],\n",
       "       [0, 1]], dtype=int64)"
      ]
     },
     "execution_count": 35,
     "metadata": {},
     "output_type": "execute_result"
    }
   ],
   "source": [
    "confusion_matrix(y_train,y_pred)"
   ]
  },
  {
   "cell_type": "code",
   "execution_count": 36,
   "id": "73169be9",
   "metadata": {},
   "outputs": [
    {
     "data": {
      "text/plain": [
       "1.0"
      ]
     },
     "execution_count": 36,
     "metadata": {},
     "output_type": "execute_result"
    }
   ],
   "source": [
    "clf.score(x_train,y_train) #mean accuracy on the given train data and labels."
   ]
  },
  {
   "cell_type": "code",
   "execution_count": 37,
   "id": "331057b5",
   "metadata": {
    "scrolled": false
   },
   "outputs": [
    {
     "name": "stdout",
     "output_type": "stream",
     "text": [
      "              precision    recall  f1-score   support\n",
      "\n",
      "           0       1.00      1.00      1.00         8\n",
      "           1       1.00      1.00      1.00         1\n",
      "\n",
      "    accuracy                           1.00         9\n",
      "   macro avg       1.00      1.00      1.00         9\n",
      "weighted avg       1.00      1.00      1.00         9\n",
      "\n"
     ]
    }
   ],
   "source": [
    "print(classification_report(y_train,y_pred))"
   ]
  },
  {
   "cell_type": "code",
   "execution_count": 38,
   "id": "d82a0dc5",
   "metadata": {},
   "outputs": [
    {
     "name": "stdout",
     "output_type": "stream",
     "text": [
      "AUC: 1.000\n"
     ]
    },
    {
     "data": {
      "image/png": "[encoded data removed]",
      "text/plain": [
       "<Figure size 432x288 with 1 Axes>"
      ]
     },
     "metadata": {},
     "output_type": "display_data"
    }
   ],
   "source": [
    "probs = clf.predict_proba(x_train)\n",
    "probs = probs[:, 1]\n",
    "from sklearn.metrics import roc_auc_score\n",
    "auc = roc_auc_score(y_train, probs)\n",
    "print('AUC: %.3f' % auc)\n",
    "from sklearn.metrics import roc_curve\n",
    "fpr, tpr, thresholds = roc_curve(y_train, probs)\n",
    "plt.plot([0, 1], [0, 1], linestyle='--')\n",
    "plt.plot(fpr, tpr, marker='.')\n",
    "plt.show()\n"
   ]
  },
  {
   "cell_type": "markdown",
   "id": "e51461f6",
   "metadata": {},
   "source": [
    "# Prediction on test data"
   ]
  },
  {
   "cell_type": "code",
   "execution_count": 39,
   "id": "5c496b40",
   "metadata": {},
   "outputs": [
    {
     "data": {
      "text/plain": [
       "array([1, 0, 0, 0, 0], dtype=int8)"
      ]
     },
     "execution_count": 39,
     "metadata": {},
     "output_type": "execute_result"
    }
   ],
   "source": [
    "y_pred_t=clf.predict(x_test)\n",
    "y_pred_t"
   ]
  },
  {
   "cell_type": "code",
   "execution_count": 40,
   "id": "2514a501",
   "metadata": {},
   "outputs": [
    {
     "data": {
      "text/plain": [
       "array([[3, 0],\n",
       "       [1, 1]], dtype=int64)"
      ]
     },
     "execution_count": 40,
     "metadata": {},
     "output_type": "execute_result"
    }
   ],
   "source": [
    "confusion_matrix(y_test,y_pred_t)"
   ]
  },
  {
   "cell_type": "code",
   "execution_count": 41,
   "id": "a5469c61",
   "metadata": {
    "scrolled": true
   },
   "outputs": [
    {
     "data": {
      "text/plain": [
       "0.8"
      ]
     },
     "execution_count": 41,
     "metadata": {},
     "output_type": "execute_result"
    }
   ],
   "source": [
    "clf.score(x_test,y_test) #mean accuracy on the given test data and labels."
   ]
  },
  {
   "cell_type": "code",
   "execution_count": 42,
   "id": "cc9078b8",
   "metadata": {},
   "outputs": [
    {
     "name": "stdout",
     "output_type": "stream",
     "text": [
      "              precision    recall  f1-score   support\n",
      "\n",
      "           0       0.75      1.00      0.86         3\n",
      "           1       1.00      0.50      0.67         2\n",
      "\n",
      "    accuracy                           0.80         5\n",
      "   macro avg       0.88      0.75      0.76         5\n",
      "weighted avg       0.85      0.80      0.78         5\n",
      "\n"
     ]
    }
   ],
   "source": [
    "print(classification_report(y_test,y_pred_t))"
   ]
  },
  {
   "cell_type": "code",
   "execution_count": 43,
   "id": "ec07efcf",
   "metadata": {},
   "outputs": [
    {
     "name": "stdout",
     "output_type": "stream",
     "text": [
      "AUC: 1.000\n"
     ]
    },
    {
     "data": {
      "image/png": "[encoded data removed]",
      "text/plain": [
       "<Figure size 432x288 with 1 Axes>"
      ]
     },
     "metadata": {},
     "output_type": "display_data"
    }
   ],
   "source": [
    "probs = clf.predict_proba(x_test)\n",
    "probs = probs[:, 1]\n",
    "from sklearn.metrics import roc_auc_score\n",
    "auc = roc_auc_score(y_test, probs)\n",
    "print('AUC: %.3f' % auc)\n",
    "from sklearn.metrics import roc_curve\n",
    "fpr, tpr, thresholds = roc_curve(y_test, probs)\n",
    "plt.plot([0, 1], [0, 1], linestyle='--')\n",
    "plt.plot(fpr, tpr, marker='.')\n",
    "plt.show()"
   ]
  },
  {
   "cell_type": "code",
   "execution_count": 57,
   "id": "772be276",
   "metadata": {},
   "outputs": [],
   "source": [
    "from sklearn.model_selection import GridSearchCV\n",
    "\n",
    "param_grid = {\n",
    "    'hidden_layer_sizes': [100,200,300,500,700],\n",
    "    'max_iter': [5000,2500,7000,6000,10000],\n",
    "    'solver': ['sgd','adam'],\n",
    "    'tol': [0.001,0.0001,0.00001],\n",
    "}\n",
    "\n",
    "nncl = MLPClassifier(random_state=1)\n",
    "\n",
    "grid_search = GridSearchCV(estimator = nncl, param_grid = param_grid, cv = 5)\n"
   ]
  },
  {
   "cell_type": "code",
   "execution_count": 58,
   "id": "7cc5b2bb",
   "metadata": {
    "scrolled": true
   },
   "outputs": [
    {
     "name": "stderr",
     "output_type": "stream",
     "text": [
      "C:\\Users\\PRCHATUR\\Anaconda3\\lib\\site-packages\\sklearn\\model_selection\\_split.py:666: UserWarning: The least populated class in y has only 1 members, which is less than n_splits=5.\n",
      "  warnings.warn((\"The least populated class in y has only %d\"\n",
      "C:\\Users\\PRCHATUR\\Anaconda3\\lib\\site-packages\\sklearn\\neural_network\\_multilayer_perceptron.py:614: ConvergenceWarning: Stochastic Optimizer: Maximum iterations (2500) reached and the optimization hasn't converged yet.\n",
      "  warnings.warn(\n",
      "C:\\Users\\PRCHATUR\\Anaconda3\\lib\\site-packages\\sklearn\\neural_network\\_multilayer_perceptron.py:614: ConvergenceWarning: Stochastic Optimizer: Maximum iterations (2500) reached and the optimization hasn't converged yet.\n",
      "  warnings.warn(\n",
      "C:\\Users\\PRCHATUR\\Anaconda3\\lib\\site-packages\\sklearn\\neural_network\\_multilayer_perceptron.py:614: ConvergenceWarning: Stochastic Optimizer: Maximum iterations (2500) reached and the optimization hasn't converged yet.\n",
      "  warnings.warn(\n",
      "C:\\Users\\PRCHATUR\\Anaconda3\\lib\\site-packages\\sklearn\\neural_network\\_multilayer_perceptron.py:614: ConvergenceWarning: Stochastic Optimizer: Maximum iterations (2500) reached and the optimization hasn't converged yet.\n",
      "  warnings.warn(\n",
      "C:\\Users\\PRCHATUR\\Anaconda3\\lib\\site-packages\\sklearn\\neural_network\\_multilayer_perceptron.py:614: ConvergenceWarning: Stochastic Optimizer: Maximum iterations (2500) reached and the optimization hasn't converged yet.\n",
      "  warnings.warn(\n",
      "C:\\Users\\PRCHATUR\\Anaconda3\\lib\\site-packages\\sklearn\\neural_network\\_multilayer_perceptron.py:614: ConvergenceWarning: Stochastic Optimizer: Maximum iterations (2500) reached and the optimization hasn't converged yet.\n",
      "  warnings.warn(\n",
      "C:\\Users\\PRCHATUR\\Anaconda3\\lib\\site-packages\\sklearn\\neural_network\\_multilayer_perceptron.py:614: ConvergenceWarning: Stochastic Optimizer: Maximum iterations (2500) reached and the optimization hasn't converged yet.\n",
      "  warnings.warn(\n"
     ]
    },
    {
     "data": {
      "text/plain": [
       "GridSearchCV(cv=5, estimator=MLPClassifier(random_state=1),\n",
       "             param_grid={'hidden_layer_sizes': [100, 200, 300, 500, 700],\n",
       "                         'max_iter': [5000, 2500, 7000, 6000, 10000],\n",
       "                         'solver': ['sgd', 'adam'],\n",
       "                         'tol': [0.001, 0.0001, 1e-05]})"
      ]
     },
     "execution_count": 58,
     "metadata": {},
     "output_type": "execute_result"
    }
   ],
   "source": [
    "grid_search.fit(x_train,y_train)"
   ]
  },
  {
   "cell_type": "code",
   "execution_count": 59,
   "id": "d600a0fb",
   "metadata": {},
   "outputs": [
    {
     "data": {
      "text/plain": [
       "{'hidden_layer_sizes': 100, 'max_iter': 5000, 'solver': 'sgd', 'tol': 0.001}"
      ]
     },
     "execution_count": 59,
     "metadata": {},
     "output_type": "execute_result"
    }
   ],
   "source": [
    "grid_search.best_params_"
   ]
  },
  {
   "cell_type": "code",
   "execution_count": 60,
   "id": "5ef1331e",
   "metadata": {},
   "outputs": [
    {
     "data": {
      "text/plain": [
       "MLPClassifier(hidden_layer_sizes=100, max_iter=5000, random_state=1,\n",
       "              solver='sgd', tol=0.001)"
      ]
     },
     "execution_count": 60,
     "metadata": {},
     "output_type": "execute_result"
    }
   ],
   "source": [
    "best_grid=grid_search.best_estimator_\n",
    "best_grid"
   ]
  },
  {
   "cell_type": "code",
   "execution_count": 61,
   "id": "05672e13",
   "metadata": {},
   "outputs": [],
   "source": [
    "ytrain_predict=best_grid.predict(x_train)\n",
    "ytest_predict=best_grid.predict(x_test)"
   ]
  },
  {
   "cell_type": "code",
   "execution_count": 62,
   "id": "ef78ff3a",
   "metadata": {},
   "outputs": [
    {
     "data": {
      "text/plain": [
       "array([[8, 0],\n",
       "       [1, 0]], dtype=int64)"
      ]
     },
     "execution_count": 62,
     "metadata": {},
     "output_type": "execute_result"
    }
   ],
   "source": [
    "confusion_matrix(y_train,ytrain_predict)"
   ]
  },
  {
   "cell_type": "code",
   "execution_count": 63,
   "id": "9af6d4e2",
   "metadata": {
    "scrolled": true
   },
   "outputs": [
    {
     "data": {
      "text/plain": [
       "1.0"
      ]
     },
     "execution_count": 63,
     "metadata": {},
     "output_type": "execute_result"
    }
   ],
   "source": [
    "clf.score(x_train,y_train) #mean accuracy on the given train data and labels."
   ]
  },
  {
   "cell_type": "code",
   "execution_count": 64,
   "id": "13b5dee1",
   "metadata": {
    "scrolled": true
   },
   "outputs": [
    {
     "name": "stdout",
     "output_type": "stream",
     "text": [
      "              precision    recall  f1-score   support\n",
      "\n",
      "           0       0.89      1.00      0.94         8\n",
      "           1       0.00      0.00      0.00         1\n",
      "\n",
      "    accuracy                           0.89         9\n",
      "   macro avg       0.44      0.50      0.47         9\n",
      "weighted avg       0.79      0.89      0.84         9\n",
      "\n"
     ]
    },
    {
     "name": "stderr",
     "output_type": "stream",
     "text": [
      "C:\\Users\\PRCHATUR\\Anaconda3\\lib\\site-packages\\sklearn\\metrics\\_classification.py:1245: UndefinedMetricWarning: Precision and F-score are ill-defined and being set to 0.0 in labels with no predicted samples. Use `zero_division` parameter to control this behavior.\n",
      "  _warn_prf(average, modifier, msg_start, len(result))\n",
      "C:\\Users\\PRCHATUR\\Anaconda3\\lib\\site-packages\\sklearn\\metrics\\_classification.py:1245: UndefinedMetricWarning: Precision and F-score are ill-defined and being set to 0.0 in labels with no predicted samples. Use `zero_division` parameter to control this behavior.\n",
      "  _warn_prf(average, modifier, msg_start, len(result))\n",
      "C:\\Users\\PRCHATUR\\Anaconda3\\lib\\site-packages\\sklearn\\metrics\\_classification.py:1245: UndefinedMetricWarning: Precision and F-score are ill-defined and being set to 0.0 in labels with no predicted samples. Use `zero_division` parameter to control this behavior.\n",
      "  _warn_prf(average, modifier, msg_start, len(result))\n"
     ]
    }
   ],
   "source": [
    "print(classification_report(y_train,ytrain_predict))"
   ]
  },
  {
   "cell_type": "code",
   "execution_count": 65,
   "id": "f4fad72d",
   "metadata": {
    "scrolled": true
   },
   "outputs": [
    {
     "data": {
      "image/png": "[encoded data removed]",
      "text/plain": [
       "<Figure size 432x288 with 1 Axes>"
      ]
     },
     "metadata": {},
     "output_type": "display_data"
    },
    {
     "name": "stdout",
     "output_type": "stream",
     "text": [
      "Area under Curve is 1.0\n"
     ]
    }
   ],
   "source": [
    "rf_fpr, rf_tpr,_=roc_curve(y_train,best_grid.predict_proba(x_train)[:,1])\n",
    "plt.plot(rf_fpr,rf_tpr, marker='x', label='NN')\n",
    "plt.plot(np.arange(0,1.1,0.1),np.arange(0,1.1,0.1))\n",
    "plt.xlabel('False Positive Rate')\n",
    "plt.ylabel('True Positive Rate')\n",
    "plt.title('ROC')\n",
    "plt.show()\n",
    "print('Area under Curve is', roc_auc_score(y_train,best_grid.predict_proba(x_train)[:,1]))"
   ]
  },
  {
   "cell_type": "code",
   "execution_count": 66,
   "id": "5e3018cb",
   "metadata": {},
   "outputs": [
    {
     "data": {
      "text/plain": [
       "array([[3, 0],\n",
       "       [2, 0]], dtype=int64)"
      ]
     },
     "execution_count": 66,
     "metadata": {},
     "output_type": "execute_result"
    }
   ],
   "source": [
    "confusion_matrix(y_test,ytest_predict)"
   ]
  },
  {
   "cell_type": "code",
   "execution_count": 67,
   "id": "b9f79ca7",
   "metadata": {},
   "outputs": [
    {
     "data": {
      "text/plain": [
       "0.8"
      ]
     },
     "execution_count": 67,
     "metadata": {},
     "output_type": "execute_result"
    }
   ],
   "source": [
    "clf.score(x_test,y_test) #mean accuracy on the given test data and labels."
   ]
  },
  {
   "cell_type": "code",
   "execution_count": 68,
   "id": "95b8f1e5",
   "metadata": {
    "scrolled": true
   },
   "outputs": [
    {
     "name": "stdout",
     "output_type": "stream",
     "text": [
      "              precision    recall  f1-score   support\n",
      "\n",
      "           0       0.60      1.00      0.75         3\n",
      "           1       0.00      0.00      0.00         2\n",
      "\n",
      "    accuracy                           0.60         5\n",
      "   macro avg       0.30      0.50      0.37         5\n",
      "weighted avg       0.36      0.60      0.45         5\n",
      "\n"
     ]
    },
    {
     "name": "stderr",
     "output_type": "stream",
     "text": [
      "C:\\Users\\PRCHATUR\\Anaconda3\\lib\\site-packages\\sklearn\\metrics\\_classification.py:1245: UndefinedMetricWarning: Precision and F-score are ill-defined and being set to 0.0 in labels with no predicted samples. Use `zero_division` parameter to control this behavior.\n",
      "  _warn_prf(average, modifier, msg_start, len(result))\n",
      "C:\\Users\\PRCHATUR\\Anaconda3\\lib\\site-packages\\sklearn\\metrics\\_classification.py:1245: UndefinedMetricWarning: Precision and F-score are ill-defined and being set to 0.0 in labels with no predicted samples. Use `zero_division` parameter to control this behavior.\n",
      "  _warn_prf(average, modifier, msg_start, len(result))\n",
      "C:\\Users\\PRCHATUR\\Anaconda3\\lib\\site-packages\\sklearn\\metrics\\_classification.py:1245: UndefinedMetricWarning: Precision and F-score are ill-defined and being set to 0.0 in labels with no predicted samples. Use `zero_division` parameter to control this behavior.\n",
      "  _warn_prf(average, modifier, msg_start, len(result))\n"
     ]
    }
   ],
   "source": [
    "print(classification_report(y_test,ytest_predict))"
   ]
  },
  {
   "cell_type": "code",
   "execution_count": 69,
   "id": "27ade5ff",
   "metadata": {},
   "outputs": [
    {
     "data": {
      "image/png": "[encoded data removed]",
      "text/plain": [
       "<Figure size 432x288 with 1 Axes>"
      ]
     },
     "metadata": {},
     "output_type": "display_data"
    },
    {
     "name": "stdout",
     "output_type": "stream",
     "text": [
      "Area under Curve is 1.0\n"
     ]
    }
   ],
   "source": [
    "rf_fpr, rf_tpr,_=roc_curve(y_test,best_grid.predict_proba(x_test)[:,1])\n",
    "plt.plot(rf_fpr,rf_tpr, marker='x', label='NN')\n",
    "plt.plot(np.arange(0,1.1,0.1),np.arange(0,1.1,0.1))\n",
    "plt.xlabel('False Positive Rate')\n",
    "plt.ylabel('True Positive Rate')\n",
    "plt.title('ROC')\n",
    "plt.show()\n",
    "print('Area under Curve is', roc_auc_score(y_test,best_grid.predict_proba(x_test)[:,1]))"
   ]
  }
 ],
 "metadata": {
  "kernelspec": {
   "display_name": "Python 3",
   "language": "python",
   "name": "python3"
  },
  "language_info": {
   "codemirror_mode": {
    "name": "ipython",
    "version": 3
   },
   "file_extension": ".py",
   "mimetype": "text/x-python",
   "name": "python",
   "nbconvert_exporter": "python",
   "pygments_lexer": "ipython3",
   "version": "3.8.8"
  }
 },
 "nbformat": 4,
 "nbformat_minor": 5
}
